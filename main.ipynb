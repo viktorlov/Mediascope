{
 "cells": [
  {
   "cell_type": "raw",
   "source": [
    "selected_in_survey.sketch.howto(\"сгруппировать по survey_hh_size, survey_passport, суммировать уникальные значения survey_see\")"
   ],
   "metadata": {
    "collapsed": false
   },
   "id": "6b2524aca3293457"
  },
  {
   "cell_type": "code",
   "execution_count": 1,
   "outputs": [],
   "source": [
    "# Импорт пандас\n",
    "import pandas as pd\n"
   ],
   "metadata": {
    "collapsed": false,
    "ExecuteTime": {
     "end_time": "2023-12-15T12:26:14.841823843Z",
     "start_time": "2023-12-15T12:26:14.824629437Z"
    }
   },
   "id": "c0d93dcbd4f29562"
  },
  {
   "cell_type": "code",
   "execution_count": 2,
   "outputs": [],
   "source": [
    "# Парсинг фактических данных по пиплметру\n",
    "src_OnOff = pd.read_csv(\"src_OnOff.csv\", \n",
    "                        parse_dates=['Begin', 'End'])\n"
   ],
   "metadata": {
    "collapsed": false,
    "ExecuteTime": {
     "end_time": "2023-12-15T12:26:16.081861612Z",
     "start_time": "2023-12-15T12:26:14.847393263Z"
    }
   },
   "id": "c3f9ccaf16d3c815"
  },
  {
   "cell_type": "code",
   "execution_count": 3,
   "outputs": [],
   "source": [
    "# Парсинг данных опроса\n",
    "src_survey = pd.read_csv('src_survey.csv',\n",
    "                         parse_dates=['day', 'cs_start', 'cs_finish', 'Begin', 'End'])\n",
    "\n",
    "# Переименование столбцов\n",
    "src_survey = src_survey.rename(columns={'tv state': 'tv_state',\n",
    "                                        'Кол-во человек в семье 4+': 'hh_size'})\n"
   ],
   "metadata": {
    "collapsed": false,
    "ExecuteTime": {
     "end_time": "2023-12-15T12:26:16.144659244Z",
     "start_time": "2023-12-15T12:26:16.124713077Z"
    }
   },
   "id": "8a512fae5c264e1f"
  },
  {
   "cell_type": "code",
   "execution_count": 4,
   "outputs": [],
   "source": [
    "# Добавление префиксов к названиям столбцов\n",
    "src_OnOff = src_OnOff.add_prefix('fact_')  # для пиплметра\n",
    "src_survey = src_survey.add_prefix('survey_')  # для опроса\n",
    "\n",
    "# Объединение датафреймов по ключам\n",
    "merged_df = pd.merge(src_survey,  # данные опроса\n",
    "                     src_OnOff,  # данные пиплметра\n",
    "                     left_on=['survey_passport', 'survey_unit'],  # ключи опроса\n",
    "                     right_on=['fact_PassportNumber', 'fact_UnitNumber'],  # ключи пиплметра\n",
    "                     how='left')  # используется left join -- для всех данных из таблицы опроса (\"главной таблицы\") присоединятся по паре ключей данные из таблицы пиплметра \n",
    "\n",
    "# Удаление дублирующихся колонок и \"плохих\" данных\n",
    "merged_df = merged_df.drop(['fact_PassportNumber', 'fact_UnitNumber'], axis=1)\n",
    "merged_df = merged_df[merged_df['fact_DeviceState'].isin(['OFF', 'ON'])]\n",
    "\n",
    "# Приведение к единому виду однотипных данных\n",
    "state_dict = {'выключен': 'OFF', 'включён': 'ON'}\n",
    "merged_df['survey_tv_state'] = merged_df['survey_tv_state'].replace(state_dict)\n"
   ],
   "metadata": {
    "collapsed": false,
    "ExecuteTime": {
     "end_time": "2023-12-15T12:26:16.173355206Z",
     "start_time": "2023-12-15T12:26:16.125055129Z"
    }
   },
   "id": "9121aa669bd6c5c0"
  },
  {
   "cell_type": "code",
   "execution_count": 5,
   "outputs": [
    {
     "data": {
      "text/plain": "      survey_code  survey_passport survey_button survey_tv_state  survey_unit  \\\n0          258104          1204558             А             OFF            0   \n1          258104          1204558             А             OFF            0   \n2          258104          1204558             А             OFF            0   \n3          258104          1204558             А             OFF            0   \n4          258104          1204558             А             OFF            0   \n...           ...              ...           ...             ...          ...   \n9269       258552          1212916             А              ON            0   \n9270       258552          1212916             А              ON            0   \n9271       258552          1212916             А              ON            0   \n9272       258552          1212916             А              ON            0   \n9273       258552          1212916             А              ON            0   \n\n     survey_day     survey_cs_start    survey_cs_finish        survey_see  \\\n0    2022-02-07 1900-01-01 16:25:18 1900-01-01 16:26:09   нет регистрации   \n1    2022-02-07 1900-01-01 16:25:18 1900-01-01 16:26:09   нет регистрации   \n2    2022-02-07 1900-01-01 16:25:18 1900-01-01 16:26:09   нет регистрации   \n3    2022-02-07 1900-01-01 16:25:18 1900-01-01 16:26:09   нет регистрации   \n4    2022-02-07 1900-01-01 16:25:18 1900-01-01 16:26:09   нет регистрации   \n...         ...                 ...                 ...               ...   \n9269 2022-02-14 1900-01-01 19:39:23 1900-01-01 19:41:36  есть регистрация   \n9270 2022-02-14 1900-01-01 19:39:23 1900-01-01 19:41:36  есть регистрация   \n9271 2022-02-14 1900-01-01 19:39:23 1900-01-01 19:41:36  есть регистрация   \n9272 2022-02-14 1900-01-01 19:39:23 1900-01-01 19:41:36  есть регистрация   \n9273 2022-02-14 1900-01-01 19:39:23 1900-01-01 19:41:36  есть регистрация   \n\n     survey_display  survey_hh_size        survey_Begin          survey_End  \\\n0     нет в комнате               1 2022-02-07 16:25:18 2022-02-07 16:26:09   \n1     нет в комнате               1 2022-02-07 16:25:18 2022-02-07 16:26:09   \n2     нет в комнате               1 2022-02-07 16:25:18 2022-02-07 16:26:09   \n3     нет в комнате               1 2022-02-07 16:25:18 2022-02-07 16:26:09   \n4     нет в комнате               1 2022-02-07 16:25:18 2022-02-07 16:26:09   \n...             ...             ...                 ...                 ...   \n9269      в комнате               1 2022-02-14 19:39:23 2022-02-14 19:41:36   \n9270      в комнате               1 2022-02-14 19:39:23 2022-02-14 19:41:36   \n9271      в комнате               1 2022-02-14 19:39:23 2022-02-14 19:41:36   \n9272      в комнате               1 2022-02-14 19:39:23 2022-02-14 19:41:36   \n9273      в комнате               1 2022-02-14 19:39:23 2022-02-14 19:41:36   \n\n     fact_DeviceState          fact_Begin            fact_End  \n0                 OFF 2022-02-07 02:00:00 2022-02-07 17:17:45  \n1                  ON 2022-02-07 17:17:45 2022-02-07 21:46:30  \n2                 OFF 2022-02-07 21:46:30 2022-02-08 02:00:00  \n3                 OFF 2022-02-08 02:00:00 2022-02-08 16:39:15  \n4                  ON 2022-02-08 16:39:15 2022-02-08 21:13:21  \n...               ...                 ...                 ...  \n9269              OFF 2022-02-15 01:21:06 2022-02-15 02:00:00  \n9270              OFF 2022-02-15 02:00:00 2022-02-15 02:49:55  \n9271               ON 2022-02-15 02:49:55 2022-02-15 10:04:29  \n9272              OFF 2022-02-15 10:04:29 2022-02-15 16:26:17  \n9273               ON 2022-02-15 16:26:17 2022-02-16 02:00:00  \n\n[9266 rows x 16 columns]",
      "text/html": "<div>\n<style scoped>\n    .dataframe tbody tr th:only-of-type {\n        vertical-align: middle;\n    }\n\n    .dataframe tbody tr th {\n        vertical-align: top;\n    }\n\n    .dataframe thead th {\n        text-align: right;\n    }\n</style>\n<table border=\"1\" class=\"dataframe\">\n  <thead>\n    <tr style=\"text-align: right;\">\n      <th></th>\n      <th>survey_code</th>\n      <th>survey_passport</th>\n      <th>survey_button</th>\n      <th>survey_tv_state</th>\n      <th>survey_unit</th>\n      <th>survey_day</th>\n      <th>survey_cs_start</th>\n      <th>survey_cs_finish</th>\n      <th>survey_see</th>\n      <th>survey_display</th>\n      <th>survey_hh_size</th>\n      <th>survey_Begin</th>\n      <th>survey_End</th>\n      <th>fact_DeviceState</th>\n      <th>fact_Begin</th>\n      <th>fact_End</th>\n    </tr>\n  </thead>\n  <tbody>\n    <tr>\n      <th>0</th>\n      <td>258104</td>\n      <td>1204558</td>\n      <td>А</td>\n      <td>OFF</td>\n      <td>0</td>\n      <td>2022-02-07</td>\n      <td>1900-01-01 16:25:18</td>\n      <td>1900-01-01 16:26:09</td>\n      <td>нет регистрации</td>\n      <td>нет в комнате</td>\n      <td>1</td>\n      <td>2022-02-07 16:25:18</td>\n      <td>2022-02-07 16:26:09</td>\n      <td>OFF</td>\n      <td>2022-02-07 02:00:00</td>\n      <td>2022-02-07 17:17:45</td>\n    </tr>\n    <tr>\n      <th>1</th>\n      <td>258104</td>\n      <td>1204558</td>\n      <td>А</td>\n      <td>OFF</td>\n      <td>0</td>\n      <td>2022-02-07</td>\n      <td>1900-01-01 16:25:18</td>\n      <td>1900-01-01 16:26:09</td>\n      <td>нет регистрации</td>\n      <td>нет в комнате</td>\n      <td>1</td>\n      <td>2022-02-07 16:25:18</td>\n      <td>2022-02-07 16:26:09</td>\n      <td>ON</td>\n      <td>2022-02-07 17:17:45</td>\n      <td>2022-02-07 21:46:30</td>\n    </tr>\n    <tr>\n      <th>2</th>\n      <td>258104</td>\n      <td>1204558</td>\n      <td>А</td>\n      <td>OFF</td>\n      <td>0</td>\n      <td>2022-02-07</td>\n      <td>1900-01-01 16:25:18</td>\n      <td>1900-01-01 16:26:09</td>\n      <td>нет регистрации</td>\n      <td>нет в комнате</td>\n      <td>1</td>\n      <td>2022-02-07 16:25:18</td>\n      <td>2022-02-07 16:26:09</td>\n      <td>OFF</td>\n      <td>2022-02-07 21:46:30</td>\n      <td>2022-02-08 02:00:00</td>\n    </tr>\n    <tr>\n      <th>3</th>\n      <td>258104</td>\n      <td>1204558</td>\n      <td>А</td>\n      <td>OFF</td>\n      <td>0</td>\n      <td>2022-02-07</td>\n      <td>1900-01-01 16:25:18</td>\n      <td>1900-01-01 16:26:09</td>\n      <td>нет регистрации</td>\n      <td>нет в комнате</td>\n      <td>1</td>\n      <td>2022-02-07 16:25:18</td>\n      <td>2022-02-07 16:26:09</td>\n      <td>OFF</td>\n      <td>2022-02-08 02:00:00</td>\n      <td>2022-02-08 16:39:15</td>\n    </tr>\n    <tr>\n      <th>4</th>\n      <td>258104</td>\n      <td>1204558</td>\n      <td>А</td>\n      <td>OFF</td>\n      <td>0</td>\n      <td>2022-02-07</td>\n      <td>1900-01-01 16:25:18</td>\n      <td>1900-01-01 16:26:09</td>\n      <td>нет регистрации</td>\n      <td>нет в комнате</td>\n      <td>1</td>\n      <td>2022-02-07 16:25:18</td>\n      <td>2022-02-07 16:26:09</td>\n      <td>ON</td>\n      <td>2022-02-08 16:39:15</td>\n      <td>2022-02-08 21:13:21</td>\n    </tr>\n    <tr>\n      <th>...</th>\n      <td>...</td>\n      <td>...</td>\n      <td>...</td>\n      <td>...</td>\n      <td>...</td>\n      <td>...</td>\n      <td>...</td>\n      <td>...</td>\n      <td>...</td>\n      <td>...</td>\n      <td>...</td>\n      <td>...</td>\n      <td>...</td>\n      <td>...</td>\n      <td>...</td>\n      <td>...</td>\n    </tr>\n    <tr>\n      <th>9269</th>\n      <td>258552</td>\n      <td>1212916</td>\n      <td>А</td>\n      <td>ON</td>\n      <td>0</td>\n      <td>2022-02-14</td>\n      <td>1900-01-01 19:39:23</td>\n      <td>1900-01-01 19:41:36</td>\n      <td>есть регистрация</td>\n      <td>в комнате</td>\n      <td>1</td>\n      <td>2022-02-14 19:39:23</td>\n      <td>2022-02-14 19:41:36</td>\n      <td>OFF</td>\n      <td>2022-02-15 01:21:06</td>\n      <td>2022-02-15 02:00:00</td>\n    </tr>\n    <tr>\n      <th>9270</th>\n      <td>258552</td>\n      <td>1212916</td>\n      <td>А</td>\n      <td>ON</td>\n      <td>0</td>\n      <td>2022-02-14</td>\n      <td>1900-01-01 19:39:23</td>\n      <td>1900-01-01 19:41:36</td>\n      <td>есть регистрация</td>\n      <td>в комнате</td>\n      <td>1</td>\n      <td>2022-02-14 19:39:23</td>\n      <td>2022-02-14 19:41:36</td>\n      <td>OFF</td>\n      <td>2022-02-15 02:00:00</td>\n      <td>2022-02-15 02:49:55</td>\n    </tr>\n    <tr>\n      <th>9271</th>\n      <td>258552</td>\n      <td>1212916</td>\n      <td>А</td>\n      <td>ON</td>\n      <td>0</td>\n      <td>2022-02-14</td>\n      <td>1900-01-01 19:39:23</td>\n      <td>1900-01-01 19:41:36</td>\n      <td>есть регистрация</td>\n      <td>в комнате</td>\n      <td>1</td>\n      <td>2022-02-14 19:39:23</td>\n      <td>2022-02-14 19:41:36</td>\n      <td>ON</td>\n      <td>2022-02-15 02:49:55</td>\n      <td>2022-02-15 10:04:29</td>\n    </tr>\n    <tr>\n      <th>9272</th>\n      <td>258552</td>\n      <td>1212916</td>\n      <td>А</td>\n      <td>ON</td>\n      <td>0</td>\n      <td>2022-02-14</td>\n      <td>1900-01-01 19:39:23</td>\n      <td>1900-01-01 19:41:36</td>\n      <td>есть регистрация</td>\n      <td>в комнате</td>\n      <td>1</td>\n      <td>2022-02-14 19:39:23</td>\n      <td>2022-02-14 19:41:36</td>\n      <td>OFF</td>\n      <td>2022-02-15 10:04:29</td>\n      <td>2022-02-15 16:26:17</td>\n    </tr>\n    <tr>\n      <th>9273</th>\n      <td>258552</td>\n      <td>1212916</td>\n      <td>А</td>\n      <td>ON</td>\n      <td>0</td>\n      <td>2022-02-14</td>\n      <td>1900-01-01 19:39:23</td>\n      <td>1900-01-01 19:41:36</td>\n      <td>есть регистрация</td>\n      <td>в комнате</td>\n      <td>1</td>\n      <td>2022-02-14 19:39:23</td>\n      <td>2022-02-14 19:41:36</td>\n      <td>ON</td>\n      <td>2022-02-15 16:26:17</td>\n      <td>2022-02-16 02:00:00</td>\n    </tr>\n  </tbody>\n</table>\n<p>9266 rows × 16 columns</p>\n</div>"
     },
     "execution_count": 5,
     "metadata": {},
     "output_type": "execute_result"
    }
   ],
   "source": [
    "merged_df\n"
   ],
   "metadata": {
    "collapsed": false,
    "ExecuteTime": {
     "end_time": "2023-12-15T12:26:16.192551439Z",
     "start_time": "2023-12-15T12:26:16.164883827Z"
    }
   },
   "id": "bbb825090dbc3e45"
  },
  {
   "cell_type": "code",
   "execution_count": 6,
   "outputs": [],
   "source": [
    "# Очищение датафрейма от данных тех дней, когда не проводились опросы\n",
    "## Дата начала или конца периода просмотра по данным пиплметра должна совпадать с датой опроса\n",
    "result_df = merged_df[(merged_df['survey_day'].dt.date == merged_df['fact_Begin'].dt.date) | \n",
    "                      (merged_df['survey_day'].dt.date == merged_df['fact_End'].dt.date)]\n"
   ],
   "metadata": {
    "collapsed": false,
    "ExecuteTime": {
     "end_time": "2023-12-15T12:26:16.251886731Z",
     "start_time": "2023-12-15T12:26:16.198865782Z"
    }
   },
   "id": "34cf9f58c98621e9"
  },
  {
   "cell_type": "code",
   "execution_count": 7,
   "outputs": [
    {
     "data": {
      "text/plain": "      survey_code  survey_passport survey_button survey_tv_state  survey_unit  \\\n0          258104          1204558             А             OFF            0   \n1          258104          1204558             А             OFF            0   \n2          258104          1204558             А             OFF            0   \n37         258106          1205697             Б              ON            0   \n38         258106          1205697             Б              ON            0   \n...           ...              ...           ...             ...          ...   \n9264       258552          1212916             А              ON            0   \n9265       258552          1212916             А              ON            0   \n9266       258552          1212916             А              ON            0   \n9267       258552          1212916             А              ON            0   \n9268       258552          1212916             А              ON            0   \n\n     survey_day     survey_cs_start    survey_cs_finish        survey_see  \\\n0    2022-02-07 1900-01-01 16:25:18 1900-01-01 16:26:09   нет регистрации   \n1    2022-02-07 1900-01-01 16:25:18 1900-01-01 16:26:09   нет регистрации   \n2    2022-02-07 1900-01-01 16:25:18 1900-01-01 16:26:09   нет регистрации   \n37   2022-02-07 1900-01-01 16:50:18 1900-01-01 16:53:17   нет регистрации   \n38   2022-02-07 1900-01-01 16:50:18 1900-01-01 16:53:17   нет регистрации   \n...         ...                 ...                 ...               ...   \n9264 2022-02-14 1900-01-01 19:39:23 1900-01-01 19:41:36  есть регистрация   \n9265 2022-02-14 1900-01-01 19:39:23 1900-01-01 19:41:36  есть регистрация   \n9266 2022-02-14 1900-01-01 19:39:23 1900-01-01 19:41:36  есть регистрация   \n9267 2022-02-14 1900-01-01 19:39:23 1900-01-01 19:41:36  есть регистрация   \n9268 2022-02-14 1900-01-01 19:39:23 1900-01-01 19:41:36  есть регистрация   \n\n     survey_display  survey_hh_size        survey_Begin          survey_End  \\\n0     нет в комнате               1 2022-02-07 16:25:18 2022-02-07 16:26:09   \n1     нет в комнате               1 2022-02-07 16:25:18 2022-02-07 16:26:09   \n2     нет в комнате               1 2022-02-07 16:25:18 2022-02-07 16:26:09   \n37        в комнате               3 2022-02-07 16:50:18 2022-02-07 16:53:17   \n38        в комнате               3 2022-02-07 16:50:18 2022-02-07 16:53:17   \n...             ...             ...                 ...                 ...   \n9264      в комнате               1 2022-02-14 19:39:23 2022-02-14 19:41:36   \n9265      в комнате               1 2022-02-14 19:39:23 2022-02-14 19:41:36   \n9266      в комнате               1 2022-02-14 19:39:23 2022-02-14 19:41:36   \n9267      в комнате               1 2022-02-14 19:39:23 2022-02-14 19:41:36   \n9268      в комнате               1 2022-02-14 19:39:23 2022-02-14 19:41:36   \n\n     fact_DeviceState          fact_Begin            fact_End  \n0                 OFF 2022-02-07 02:00:00 2022-02-07 17:17:45  \n1                  ON 2022-02-07 17:17:45 2022-02-07 21:46:30  \n2                 OFF 2022-02-07 21:46:30 2022-02-08 02:00:00  \n37                OFF 2022-02-07 02:00:00 2022-02-07 10:39:19  \n38                 ON 2022-02-07 10:39:19 2022-02-07 16:55:30  \n...               ...                 ...                 ...  \n9264               ON 2022-02-14 02:00:00 2022-02-14 08:03:40  \n9265              OFF 2022-02-14 08:03:40 2022-02-14 15:28:07  \n9266               ON 2022-02-14 15:28:07 2022-02-14 21:12:32  \n9267              OFF 2022-02-14 21:12:32 2022-02-14 21:46:25  \n9268               ON 2022-02-14 21:46:25 2022-02-15 01:21:06  \n\n[1157 rows x 16 columns]",
      "text/html": "<div>\n<style scoped>\n    .dataframe tbody tr th:only-of-type {\n        vertical-align: middle;\n    }\n\n    .dataframe tbody tr th {\n        vertical-align: top;\n    }\n\n    .dataframe thead th {\n        text-align: right;\n    }\n</style>\n<table border=\"1\" class=\"dataframe\">\n  <thead>\n    <tr style=\"text-align: right;\">\n      <th></th>\n      <th>survey_code</th>\n      <th>survey_passport</th>\n      <th>survey_button</th>\n      <th>survey_tv_state</th>\n      <th>survey_unit</th>\n      <th>survey_day</th>\n      <th>survey_cs_start</th>\n      <th>survey_cs_finish</th>\n      <th>survey_see</th>\n      <th>survey_display</th>\n      <th>survey_hh_size</th>\n      <th>survey_Begin</th>\n      <th>survey_End</th>\n      <th>fact_DeviceState</th>\n      <th>fact_Begin</th>\n      <th>fact_End</th>\n    </tr>\n  </thead>\n  <tbody>\n    <tr>\n      <th>0</th>\n      <td>258104</td>\n      <td>1204558</td>\n      <td>А</td>\n      <td>OFF</td>\n      <td>0</td>\n      <td>2022-02-07</td>\n      <td>1900-01-01 16:25:18</td>\n      <td>1900-01-01 16:26:09</td>\n      <td>нет регистрации</td>\n      <td>нет в комнате</td>\n      <td>1</td>\n      <td>2022-02-07 16:25:18</td>\n      <td>2022-02-07 16:26:09</td>\n      <td>OFF</td>\n      <td>2022-02-07 02:00:00</td>\n      <td>2022-02-07 17:17:45</td>\n    </tr>\n    <tr>\n      <th>1</th>\n      <td>258104</td>\n      <td>1204558</td>\n      <td>А</td>\n      <td>OFF</td>\n      <td>0</td>\n      <td>2022-02-07</td>\n      <td>1900-01-01 16:25:18</td>\n      <td>1900-01-01 16:26:09</td>\n      <td>нет регистрации</td>\n      <td>нет в комнате</td>\n      <td>1</td>\n      <td>2022-02-07 16:25:18</td>\n      <td>2022-02-07 16:26:09</td>\n      <td>ON</td>\n      <td>2022-02-07 17:17:45</td>\n      <td>2022-02-07 21:46:30</td>\n    </tr>\n    <tr>\n      <th>2</th>\n      <td>258104</td>\n      <td>1204558</td>\n      <td>А</td>\n      <td>OFF</td>\n      <td>0</td>\n      <td>2022-02-07</td>\n      <td>1900-01-01 16:25:18</td>\n      <td>1900-01-01 16:26:09</td>\n      <td>нет регистрации</td>\n      <td>нет в комнате</td>\n      <td>1</td>\n      <td>2022-02-07 16:25:18</td>\n      <td>2022-02-07 16:26:09</td>\n      <td>OFF</td>\n      <td>2022-02-07 21:46:30</td>\n      <td>2022-02-08 02:00:00</td>\n    </tr>\n    <tr>\n      <th>37</th>\n      <td>258106</td>\n      <td>1205697</td>\n      <td>Б</td>\n      <td>ON</td>\n      <td>0</td>\n      <td>2022-02-07</td>\n      <td>1900-01-01 16:50:18</td>\n      <td>1900-01-01 16:53:17</td>\n      <td>нет регистрации</td>\n      <td>в комнате</td>\n      <td>3</td>\n      <td>2022-02-07 16:50:18</td>\n      <td>2022-02-07 16:53:17</td>\n      <td>OFF</td>\n      <td>2022-02-07 02:00:00</td>\n      <td>2022-02-07 10:39:19</td>\n    </tr>\n    <tr>\n      <th>38</th>\n      <td>258106</td>\n      <td>1205697</td>\n      <td>Б</td>\n      <td>ON</td>\n      <td>0</td>\n      <td>2022-02-07</td>\n      <td>1900-01-01 16:50:18</td>\n      <td>1900-01-01 16:53:17</td>\n      <td>нет регистрации</td>\n      <td>в комнате</td>\n      <td>3</td>\n      <td>2022-02-07 16:50:18</td>\n      <td>2022-02-07 16:53:17</td>\n      <td>ON</td>\n      <td>2022-02-07 10:39:19</td>\n      <td>2022-02-07 16:55:30</td>\n    </tr>\n    <tr>\n      <th>...</th>\n      <td>...</td>\n      <td>...</td>\n      <td>...</td>\n      <td>...</td>\n      <td>...</td>\n      <td>...</td>\n      <td>...</td>\n      <td>...</td>\n      <td>...</td>\n      <td>...</td>\n      <td>...</td>\n      <td>...</td>\n      <td>...</td>\n      <td>...</td>\n      <td>...</td>\n      <td>...</td>\n    </tr>\n    <tr>\n      <th>9264</th>\n      <td>258552</td>\n      <td>1212916</td>\n      <td>А</td>\n      <td>ON</td>\n      <td>0</td>\n      <td>2022-02-14</td>\n      <td>1900-01-01 19:39:23</td>\n      <td>1900-01-01 19:41:36</td>\n      <td>есть регистрация</td>\n      <td>в комнате</td>\n      <td>1</td>\n      <td>2022-02-14 19:39:23</td>\n      <td>2022-02-14 19:41:36</td>\n      <td>ON</td>\n      <td>2022-02-14 02:00:00</td>\n      <td>2022-02-14 08:03:40</td>\n    </tr>\n    <tr>\n      <th>9265</th>\n      <td>258552</td>\n      <td>1212916</td>\n      <td>А</td>\n      <td>ON</td>\n      <td>0</td>\n      <td>2022-02-14</td>\n      <td>1900-01-01 19:39:23</td>\n      <td>1900-01-01 19:41:36</td>\n      <td>есть регистрация</td>\n      <td>в комнате</td>\n      <td>1</td>\n      <td>2022-02-14 19:39:23</td>\n      <td>2022-02-14 19:41:36</td>\n      <td>OFF</td>\n      <td>2022-02-14 08:03:40</td>\n      <td>2022-02-14 15:28:07</td>\n    </tr>\n    <tr>\n      <th>9266</th>\n      <td>258552</td>\n      <td>1212916</td>\n      <td>А</td>\n      <td>ON</td>\n      <td>0</td>\n      <td>2022-02-14</td>\n      <td>1900-01-01 19:39:23</td>\n      <td>1900-01-01 19:41:36</td>\n      <td>есть регистрация</td>\n      <td>в комнате</td>\n      <td>1</td>\n      <td>2022-02-14 19:39:23</td>\n      <td>2022-02-14 19:41:36</td>\n      <td>ON</td>\n      <td>2022-02-14 15:28:07</td>\n      <td>2022-02-14 21:12:32</td>\n    </tr>\n    <tr>\n      <th>9267</th>\n      <td>258552</td>\n      <td>1212916</td>\n      <td>А</td>\n      <td>ON</td>\n      <td>0</td>\n      <td>2022-02-14</td>\n      <td>1900-01-01 19:39:23</td>\n      <td>1900-01-01 19:41:36</td>\n      <td>есть регистрация</td>\n      <td>в комнате</td>\n      <td>1</td>\n      <td>2022-02-14 19:39:23</td>\n      <td>2022-02-14 19:41:36</td>\n      <td>OFF</td>\n      <td>2022-02-14 21:12:32</td>\n      <td>2022-02-14 21:46:25</td>\n    </tr>\n    <tr>\n      <th>9268</th>\n      <td>258552</td>\n      <td>1212916</td>\n      <td>А</td>\n      <td>ON</td>\n      <td>0</td>\n      <td>2022-02-14</td>\n      <td>1900-01-01 19:39:23</td>\n      <td>1900-01-01 19:41:36</td>\n      <td>есть регистрация</td>\n      <td>в комнате</td>\n      <td>1</td>\n      <td>2022-02-14 19:39:23</td>\n      <td>2022-02-14 19:41:36</td>\n      <td>ON</td>\n      <td>2022-02-14 21:46:25</td>\n      <td>2022-02-15 01:21:06</td>\n    </tr>\n  </tbody>\n</table>\n<p>1157 rows × 16 columns</p>\n</div>"
     },
     "execution_count": 7,
     "metadata": {},
     "output_type": "execute_result"
    }
   ],
   "source": [
    "result_df\n"
   ],
   "metadata": {
    "collapsed": false,
    "ExecuteTime": {
     "end_time": "2023-12-15T12:26:16.302787636Z",
     "start_time": "2023-12-15T12:26:16.207645326Z"
    }
   },
   "id": "610e7addf63d1910"
  },
  {
   "cell_type": "code",
   "execution_count": 8,
   "outputs": [],
   "source": [
    "# Очищение датафрейма от данных тех периодов времени, когда не проводились опросы.\n",
    "## Время начала опроса должно быть позже начала периода фиксации статуса пиплметра, \n",
    "## время окончания опроса должно быть раньше окончания периода фиксации статуса пиплметра.\n",
    "## Другими словами, период опроса должен находиться ВНУТРИ периода фиксации статуса пиплметра.\n",
    "## В противном случае, мы имеем внешнее воздействие (опрос) для изменения респондентом статуса пиплметра -- включения/выключения ТВ. \n",
    "in_survey = result_df[((result_df['survey_Begin'] > result_df['fact_Begin']) & (result_df['survey_End'] < result_df['fact_End']))]\n"
   ],
   "metadata": {
    "collapsed": false,
    "ExecuteTime": {
     "end_time": "2023-12-15T12:26:16.350588563Z",
     "start_time": "2023-12-15T12:26:16.229078834Z"
    }
   },
   "id": "b06a8f026f7b3550"
  },
  {
   "cell_type": "code",
   "execution_count": 9,
   "outputs": [
    {
     "data": {
      "text/plain": "      survey_code  survey_passport survey_button survey_tv_state  survey_unit  \\\n0          258104          1204558             А             OFF            0   \n38         258106          1205697             Б              ON            0   \n81         258106          1205697             А              ON            0   \n124        258106          1205697             В              ON            0   \n167        258109          1206994             А             OFF            1   \n...           ...              ...           ...             ...          ...   \n9051       258546          1212330             В              ON            0   \n9090       258546          1212330             А              ON            0   \n9129       258546          1212330             Б              ON            0   \n9168       258546          1212330             Д              ON            0   \n9266       258552          1212916             А              ON            0   \n\n     survey_day     survey_cs_start    survey_cs_finish        survey_see  \\\n0    2022-02-07 1900-01-01 16:25:18 1900-01-01 16:26:09   нет регистрации   \n38   2022-02-07 1900-01-01 16:50:18 1900-01-01 16:53:17   нет регистрации   \n81   2022-02-07 1900-01-01 16:50:18 1900-01-01 16:53:17   нет регистрации   \n124  2022-02-07 1900-01-01 16:50:18 1900-01-01 16:53:17   нет регистрации   \n167  2022-02-08 1900-01-01 03:05:31 1900-01-01 03:06:58   нет регистрации   \n...         ...                 ...                 ...               ...   \n9051 2022-02-14 1900-01-01 18:44:21 1900-01-01 18:46:04   нет регистрации   \n9090 2022-02-14 1900-01-01 18:44:21 1900-01-01 18:46:04   нет регистрации   \n9129 2022-02-14 1900-01-01 18:44:21 1900-01-01 18:46:04   нет регистрации   \n9168 2022-02-14 1900-01-01 18:44:21 1900-01-01 18:46:04  есть регистрация   \n9266 2022-02-14 1900-01-01 19:39:23 1900-01-01 19:41:36  есть регистрация   \n\n     survey_display  survey_hh_size        survey_Begin          survey_End  \\\n0     нет в комнате               1 2022-02-07 16:25:18 2022-02-07 16:26:09   \n38        в комнате               3 2022-02-07 16:50:18 2022-02-07 16:53:17   \n81    нет в комнате               3 2022-02-07 16:50:18 2022-02-07 16:53:17   \n124       в комнате               3 2022-02-07 16:50:18 2022-02-07 16:53:17   \n167   нет в комнате               1 2022-02-08 03:05:31 2022-02-08 03:06:58   \n...             ...             ...                 ...                 ...   \n9051  нет в комнате               4 2022-02-14 18:44:21 2022-02-14 18:46:04   \n9090  нет в комнате               4 2022-02-14 18:44:21 2022-02-14 18:46:04   \n9129  нет в комнате               4 2022-02-14 18:44:21 2022-02-14 18:46:04   \n9168      в комнате               4 2022-02-14 18:44:21 2022-02-14 18:46:04   \n9266      в комнате               1 2022-02-14 19:39:23 2022-02-14 19:41:36   \n\n     fact_DeviceState          fact_Begin            fact_End  \n0                 OFF 2022-02-07 02:00:00 2022-02-07 17:17:45  \n38                 ON 2022-02-07 10:39:19 2022-02-07 16:55:30  \n81                 ON 2022-02-07 10:39:19 2022-02-07 16:55:30  \n124                ON 2022-02-07 10:39:19 2022-02-07 16:55:30  \n167                ON 2022-02-08 02:00:00 2022-02-09 02:00:00  \n...               ...                 ...                 ...  \n9051               ON 2022-02-14 18:10:50 2022-02-14 22:07:42  \n9090               ON 2022-02-14 18:10:50 2022-02-14 22:07:42  \n9129               ON 2022-02-14 18:10:50 2022-02-14 22:07:42  \n9168               ON 2022-02-14 18:10:50 2022-02-14 22:07:42  \n9266               ON 2022-02-14 15:28:07 2022-02-14 21:12:32  \n\n[195 rows x 16 columns]",
      "text/html": "<div>\n<style scoped>\n    .dataframe tbody tr th:only-of-type {\n        vertical-align: middle;\n    }\n\n    .dataframe tbody tr th {\n        vertical-align: top;\n    }\n\n    .dataframe thead th {\n        text-align: right;\n    }\n</style>\n<table border=\"1\" class=\"dataframe\">\n  <thead>\n    <tr style=\"text-align: right;\">\n      <th></th>\n      <th>survey_code</th>\n      <th>survey_passport</th>\n      <th>survey_button</th>\n      <th>survey_tv_state</th>\n      <th>survey_unit</th>\n      <th>survey_day</th>\n      <th>survey_cs_start</th>\n      <th>survey_cs_finish</th>\n      <th>survey_see</th>\n      <th>survey_display</th>\n      <th>survey_hh_size</th>\n      <th>survey_Begin</th>\n      <th>survey_End</th>\n      <th>fact_DeviceState</th>\n      <th>fact_Begin</th>\n      <th>fact_End</th>\n    </tr>\n  </thead>\n  <tbody>\n    <tr>\n      <th>0</th>\n      <td>258104</td>\n      <td>1204558</td>\n      <td>А</td>\n      <td>OFF</td>\n      <td>0</td>\n      <td>2022-02-07</td>\n      <td>1900-01-01 16:25:18</td>\n      <td>1900-01-01 16:26:09</td>\n      <td>нет регистрации</td>\n      <td>нет в комнате</td>\n      <td>1</td>\n      <td>2022-02-07 16:25:18</td>\n      <td>2022-02-07 16:26:09</td>\n      <td>OFF</td>\n      <td>2022-02-07 02:00:00</td>\n      <td>2022-02-07 17:17:45</td>\n    </tr>\n    <tr>\n      <th>38</th>\n      <td>258106</td>\n      <td>1205697</td>\n      <td>Б</td>\n      <td>ON</td>\n      <td>0</td>\n      <td>2022-02-07</td>\n      <td>1900-01-01 16:50:18</td>\n      <td>1900-01-01 16:53:17</td>\n      <td>нет регистрации</td>\n      <td>в комнате</td>\n      <td>3</td>\n      <td>2022-02-07 16:50:18</td>\n      <td>2022-02-07 16:53:17</td>\n      <td>ON</td>\n      <td>2022-02-07 10:39:19</td>\n      <td>2022-02-07 16:55:30</td>\n    </tr>\n    <tr>\n      <th>81</th>\n      <td>258106</td>\n      <td>1205697</td>\n      <td>А</td>\n      <td>ON</td>\n      <td>0</td>\n      <td>2022-02-07</td>\n      <td>1900-01-01 16:50:18</td>\n      <td>1900-01-01 16:53:17</td>\n      <td>нет регистрации</td>\n      <td>нет в комнате</td>\n      <td>3</td>\n      <td>2022-02-07 16:50:18</td>\n      <td>2022-02-07 16:53:17</td>\n      <td>ON</td>\n      <td>2022-02-07 10:39:19</td>\n      <td>2022-02-07 16:55:30</td>\n    </tr>\n    <tr>\n      <th>124</th>\n      <td>258106</td>\n      <td>1205697</td>\n      <td>В</td>\n      <td>ON</td>\n      <td>0</td>\n      <td>2022-02-07</td>\n      <td>1900-01-01 16:50:18</td>\n      <td>1900-01-01 16:53:17</td>\n      <td>нет регистрации</td>\n      <td>в комнате</td>\n      <td>3</td>\n      <td>2022-02-07 16:50:18</td>\n      <td>2022-02-07 16:53:17</td>\n      <td>ON</td>\n      <td>2022-02-07 10:39:19</td>\n      <td>2022-02-07 16:55:30</td>\n    </tr>\n    <tr>\n      <th>167</th>\n      <td>258109</td>\n      <td>1206994</td>\n      <td>А</td>\n      <td>OFF</td>\n      <td>1</td>\n      <td>2022-02-08</td>\n      <td>1900-01-01 03:05:31</td>\n      <td>1900-01-01 03:06:58</td>\n      <td>нет регистрации</td>\n      <td>нет в комнате</td>\n      <td>1</td>\n      <td>2022-02-08 03:05:31</td>\n      <td>2022-02-08 03:06:58</td>\n      <td>ON</td>\n      <td>2022-02-08 02:00:00</td>\n      <td>2022-02-09 02:00:00</td>\n    </tr>\n    <tr>\n      <th>...</th>\n      <td>...</td>\n      <td>...</td>\n      <td>...</td>\n      <td>...</td>\n      <td>...</td>\n      <td>...</td>\n      <td>...</td>\n      <td>...</td>\n      <td>...</td>\n      <td>...</td>\n      <td>...</td>\n      <td>...</td>\n      <td>...</td>\n      <td>...</td>\n      <td>...</td>\n      <td>...</td>\n    </tr>\n    <tr>\n      <th>9051</th>\n      <td>258546</td>\n      <td>1212330</td>\n      <td>В</td>\n      <td>ON</td>\n      <td>0</td>\n      <td>2022-02-14</td>\n      <td>1900-01-01 18:44:21</td>\n      <td>1900-01-01 18:46:04</td>\n      <td>нет регистрации</td>\n      <td>нет в комнате</td>\n      <td>4</td>\n      <td>2022-02-14 18:44:21</td>\n      <td>2022-02-14 18:46:04</td>\n      <td>ON</td>\n      <td>2022-02-14 18:10:50</td>\n      <td>2022-02-14 22:07:42</td>\n    </tr>\n    <tr>\n      <th>9090</th>\n      <td>258546</td>\n      <td>1212330</td>\n      <td>А</td>\n      <td>ON</td>\n      <td>0</td>\n      <td>2022-02-14</td>\n      <td>1900-01-01 18:44:21</td>\n      <td>1900-01-01 18:46:04</td>\n      <td>нет регистрации</td>\n      <td>нет в комнате</td>\n      <td>4</td>\n      <td>2022-02-14 18:44:21</td>\n      <td>2022-02-14 18:46:04</td>\n      <td>ON</td>\n      <td>2022-02-14 18:10:50</td>\n      <td>2022-02-14 22:07:42</td>\n    </tr>\n    <tr>\n      <th>9129</th>\n      <td>258546</td>\n      <td>1212330</td>\n      <td>Б</td>\n      <td>ON</td>\n      <td>0</td>\n      <td>2022-02-14</td>\n      <td>1900-01-01 18:44:21</td>\n      <td>1900-01-01 18:46:04</td>\n      <td>нет регистрации</td>\n      <td>нет в комнате</td>\n      <td>4</td>\n      <td>2022-02-14 18:44:21</td>\n      <td>2022-02-14 18:46:04</td>\n      <td>ON</td>\n      <td>2022-02-14 18:10:50</td>\n      <td>2022-02-14 22:07:42</td>\n    </tr>\n    <tr>\n      <th>9168</th>\n      <td>258546</td>\n      <td>1212330</td>\n      <td>Д</td>\n      <td>ON</td>\n      <td>0</td>\n      <td>2022-02-14</td>\n      <td>1900-01-01 18:44:21</td>\n      <td>1900-01-01 18:46:04</td>\n      <td>есть регистрация</td>\n      <td>в комнате</td>\n      <td>4</td>\n      <td>2022-02-14 18:44:21</td>\n      <td>2022-02-14 18:46:04</td>\n      <td>ON</td>\n      <td>2022-02-14 18:10:50</td>\n      <td>2022-02-14 22:07:42</td>\n    </tr>\n    <tr>\n      <th>9266</th>\n      <td>258552</td>\n      <td>1212916</td>\n      <td>А</td>\n      <td>ON</td>\n      <td>0</td>\n      <td>2022-02-14</td>\n      <td>1900-01-01 19:39:23</td>\n      <td>1900-01-01 19:41:36</td>\n      <td>есть регистрация</td>\n      <td>в комнате</td>\n      <td>1</td>\n      <td>2022-02-14 19:39:23</td>\n      <td>2022-02-14 19:41:36</td>\n      <td>ON</td>\n      <td>2022-02-14 15:28:07</td>\n      <td>2022-02-14 21:12:32</td>\n    </tr>\n  </tbody>\n</table>\n<p>195 rows × 16 columns</p>\n</div>"
     },
     "execution_count": 9,
     "metadata": {},
     "output_type": "execute_result"
    }
   ],
   "source": [
    "in_survey\n"
   ],
   "metadata": {
    "collapsed": false,
    "ExecuteTime": {
     "end_time": "2023-12-15T12:26:16.389830308Z",
     "start_time": "2023-12-15T12:26:16.236277693Z"
    }
   },
   "id": "46aeb5abca675002"
  },
  {
   "cell_type": "code",
   "execution_count": 10,
   "outputs": [
    {
     "data": {
      "text/plain": "      survey_code  survey_passport survey_button survey_tv_state  survey_unit  \\\n167        258109          1206994             А             OFF            1   \n5521       258521          1208646             А             OFF            0   \n5643       258521          1208646             Б             OFF            0   \n\n     survey_day     survey_cs_start    survey_cs_finish       survey_see  \\\n167  2022-02-08 1900-01-01 03:05:31 1900-01-01 03:06:58  нет регистрации   \n5521 2022-02-14 1900-01-01 19:43:33 1900-01-01 19:45:31  нет регистрации   \n5643 2022-02-14 1900-01-01 19:43:33 1900-01-01 19:45:31  нет регистрации   \n\n     survey_display  survey_hh_size        survey_Begin          survey_End  \\\n167   нет в комнате               1 2022-02-08 03:05:31 2022-02-08 03:06:58   \n5521  нет в комнате               2 2022-02-14 19:43:33 2022-02-14 19:45:31   \n5643  нет в комнате               2 2022-02-14 19:43:33 2022-02-14 19:45:31   \n\n     fact_DeviceState          fact_Begin            fact_End  \n167                ON 2022-02-08 02:00:00 2022-02-09 02:00:00  \n5521               ON 2022-02-14 19:35:18 2022-02-14 21:54:48  \n5643               ON 2022-02-14 19:35:18 2022-02-14 21:54:48  ",
      "text/html": "<div>\n<style scoped>\n    .dataframe tbody tr th:only-of-type {\n        vertical-align: middle;\n    }\n\n    .dataframe tbody tr th {\n        vertical-align: top;\n    }\n\n    .dataframe thead th {\n        text-align: right;\n    }\n</style>\n<table border=\"1\" class=\"dataframe\">\n  <thead>\n    <tr style=\"text-align: right;\">\n      <th></th>\n      <th>survey_code</th>\n      <th>survey_passport</th>\n      <th>survey_button</th>\n      <th>survey_tv_state</th>\n      <th>survey_unit</th>\n      <th>survey_day</th>\n      <th>survey_cs_start</th>\n      <th>survey_cs_finish</th>\n      <th>survey_see</th>\n      <th>survey_display</th>\n      <th>survey_hh_size</th>\n      <th>survey_Begin</th>\n      <th>survey_End</th>\n      <th>fact_DeviceState</th>\n      <th>fact_Begin</th>\n      <th>fact_End</th>\n    </tr>\n  </thead>\n  <tbody>\n    <tr>\n      <th>167</th>\n      <td>258109</td>\n      <td>1206994</td>\n      <td>А</td>\n      <td>OFF</td>\n      <td>1</td>\n      <td>2022-02-08</td>\n      <td>1900-01-01 03:05:31</td>\n      <td>1900-01-01 03:06:58</td>\n      <td>нет регистрации</td>\n      <td>нет в комнате</td>\n      <td>1</td>\n      <td>2022-02-08 03:05:31</td>\n      <td>2022-02-08 03:06:58</td>\n      <td>ON</td>\n      <td>2022-02-08 02:00:00</td>\n      <td>2022-02-09 02:00:00</td>\n    </tr>\n    <tr>\n      <th>5521</th>\n      <td>258521</td>\n      <td>1208646</td>\n      <td>А</td>\n      <td>OFF</td>\n      <td>0</td>\n      <td>2022-02-14</td>\n      <td>1900-01-01 19:43:33</td>\n      <td>1900-01-01 19:45:31</td>\n      <td>нет регистрации</td>\n      <td>нет в комнате</td>\n      <td>2</td>\n      <td>2022-02-14 19:43:33</td>\n      <td>2022-02-14 19:45:31</td>\n      <td>ON</td>\n      <td>2022-02-14 19:35:18</td>\n      <td>2022-02-14 21:54:48</td>\n    </tr>\n    <tr>\n      <th>5643</th>\n      <td>258521</td>\n      <td>1208646</td>\n      <td>Б</td>\n      <td>OFF</td>\n      <td>0</td>\n      <td>2022-02-14</td>\n      <td>1900-01-01 19:43:33</td>\n      <td>1900-01-01 19:45:31</td>\n      <td>нет регистрации</td>\n      <td>нет в комнате</td>\n      <td>2</td>\n      <td>2022-02-14 19:43:33</td>\n      <td>2022-02-14 19:45:31</td>\n      <td>ON</td>\n      <td>2022-02-14 19:35:18</td>\n      <td>2022-02-14 21:54:48</td>\n    </tr>\n  </tbody>\n</table>\n</div>"
     },
     "execution_count": 10,
     "metadata": {},
     "output_type": "execute_result"
    }
   ],
   "source": [
    "unequal_df = in_survey[in_survey['survey_tv_state'] != in_survey['fact_DeviceState']]\n",
    "\n",
    "unequal_df\n"
   ],
   "metadata": {
    "collapsed": false,
    "ExecuteTime": {
     "end_time": "2023-12-15T12:26:16.391613099Z",
     "start_time": "2023-12-15T12:26:16.277330806Z"
    }
   },
   "id": "2391c624b2a7ae90"
  },
  {
   "cell_type": "code",
   "execution_count": 11,
   "outputs": [
    {
     "name": "stdout",
     "output_type": "stream",
     "text": [
      "1.54%, \n",
      "0% \n",
      "195\n"
     ]
    }
   ],
   "source": [
    "cnt_first = unequal_df[unequal_df['survey_tv_state'] == 'OFF']['survey_tv_state'].count()\n",
    "cnt_second = unequal_df[unequal_df['survey_tv_state'] == 'ON']['survey_tv_state'].count()\n",
    "cnt_all = len(in_survey.index)\n",
    "print(f'{round(100 * cnt_first / cnt_all, 2)}%, \\n{round(100 * cnt_second / cnt_all)}%', f'\\n{cnt_all}')\n"
   ],
   "metadata": {
    "collapsed": false,
    "ExecuteTime": {
     "end_time": "2023-12-15T12:26:16.426566722Z",
     "start_time": "2023-12-15T12:26:16.279012008Z"
    }
   },
   "id": "b36259a83f17285a"
  },
  {
   "cell_type": "code",
   "execution_count": 12,
   "outputs": [
    {
     "data": {
      "text/plain": "<Figure size 500x500 with 1 Axes>",
      "image/png": "[encoded data removed]"
     },
     "metadata": {},
     "output_type": "display_data"
    }
   ],
   "source": [
    "from sklearn.metrics import confusion_matrix\n",
    "import matplotlib.pyplot as plt\n",
    "import seaborn as sns\n",
    "\n",
    "\n",
    "cm = confusion_matrix(\n",
    "    in_survey['fact_DeviceState'],\n",
    "    in_survey['survey_tv_state']\n",
    ")\n",
    "\n",
    "plt.figure(figsize=(5, 5))\n",
    "heatmap = sns.heatmap(cm,\n",
    "                      cbar=False,\n",
    "                      square=True,\n",
    "                      fmt='.0f',\n",
    "                      annot=True,\n",
    "                      annot_kws={'size': 13},\n",
    "                      cmap='seismic',\n",
    "                      xticklabels=['OFF', 'ON'],\n",
    "                      yticklabels=['OFF', 'ON'])\n",
    "heatmap.set_xlabel(\"SURVEY: данные опроса\")\n",
    "heatmap.set_ylabel(\"ON/OFF: данные пиплметра\")\n",
    "plt.show()"
   ],
   "metadata": {
    "collapsed": false,
    "ExecuteTime": {
     "end_time": "2023-12-15T12:26:16.609282878Z",
     "start_time": "2023-12-15T12:26:16.320655461Z"
    }
   },
   "id": "81bd6c9548d7c516"
  },
  {
   "cell_type": "raw",
   "source": [
    "Ошибок первого рода (ложно-положительных): 0.\n",
    "Ошибок второго рода (ложно-отрицательных): 3 шт, 1,54%.\n",
    "\n",
    "Положительных результатов (включенных ТВ): 51 (48 истинно-положительных и 3 ложно-отрицательных).\n",
    "Отрицательных результатов (выключенных ТВ): 144 (все -- истинно-отрицательные).\n"
   ],
   "metadata": {
    "collapsed": false
   },
   "id": "d7f69e7d64d36746"
  },
  {
   "cell_type": "code",
   "execution_count": 13,
   "outputs": [
    {
     "data": {
      "text/plain": "      survey_code  survey_passport survey_button survey_tv_state  survey_unit  \\\n38         258106          1205697             Б              ON            0   \n81         258106          1205697             А              ON            0   \n124        258106          1205697             В              ON            0   \n216        258110          1208135             А             OFF            2   \n267        258110          1208135             А              ON            1   \n306        258110          1208135             Б             OFF            2   \n357        258110          1208135             Б              ON            1   \n1782       258124          1210425             А              ON            0   \n1876       258124          1210425             А             OFF            1   \n1922       258124          1210425             А             OFF            2   \n2007       258124          1210425             Б              ON            0   \n2101       258124          1210425             Б             OFF            1   \n2147       258124          1210425             Б             OFF            2   \n2228       258128          1210930             А              ON            1   \n2276       258128          1210930             А             OFF            0   \n2300       258128          1210930             Б              ON            1   \n2348       258128          1210930             Б             OFF            0   \n2372       258128          1210930             В              ON            1   \n2420       258128          1210930             В             OFF            0   \n2444       258128          1210930             Г              ON            1   \n2492       258128          1210930             Г             OFF            0   \n\n     survey_day     survey_cs_start    survey_cs_finish        survey_see  \\\n38   2022-02-07 1900-01-01 16:50:18 1900-01-01 16:53:17   нет регистрации   \n81   2022-02-07 1900-01-01 16:50:18 1900-01-01 16:53:17   нет регистрации   \n124  2022-02-07 1900-01-01 16:50:18 1900-01-01 16:53:17   нет регистрации   \n216  2022-02-09 1900-01-01 14:31:41 1900-01-01 14:33:41   нет регистрации   \n267  2022-02-09 1900-01-01 14:31:41 1900-01-01 14:33:41   нет регистрации   \n306  2022-02-09 1900-01-01 14:31:41 1900-01-01 14:33:41   нет регистрации   \n357  2022-02-09 1900-01-01 14:31:41 1900-01-01 14:33:41   нет регистрации   \n1782 2022-02-07 1900-01-01 17:57:43 1900-01-01 18:07:25  есть регистрация   \n1876 2022-02-07 1900-01-01 17:57:43 1900-01-01 18:07:25   нет регистрации   \n1922 2022-02-07 1900-01-01 17:57:43 1900-01-01 18:07:25   нет регистрации   \n2007 2022-02-07 1900-01-01 17:57:43 1900-01-01 18:07:25   нет регистрации   \n2101 2022-02-07 1900-01-01 17:57:43 1900-01-01 18:07:25   нет регистрации   \n2147 2022-02-07 1900-01-01 17:57:43 1900-01-01 18:07:25   нет регистрации   \n2228 2022-02-07 1900-01-01 18:52:47 1900-01-01 18:54:12  есть регистрация   \n2276 2022-02-07 1900-01-01 18:52:47 1900-01-01 18:54:12   нет регистрации   \n2300 2022-02-07 1900-01-01 18:52:47 1900-01-01 18:54:12   нет регистрации   \n2348 2022-02-07 1900-01-01 18:52:47 1900-01-01 18:54:12   нет регистрации   \n2372 2022-02-07 1900-01-01 18:52:47 1900-01-01 18:54:12   нет регистрации   \n2420 2022-02-07 1900-01-01 18:52:47 1900-01-01 18:54:12   нет регистрации   \n2444 2022-02-07 1900-01-01 18:52:47 1900-01-01 18:54:12   нет регистрации   \n2492 2022-02-07 1900-01-01 18:52:47 1900-01-01 18:54:12   нет регистрации   \n\n     survey_display  survey_hh_size        survey_Begin          survey_End  \\\n38        в комнате               3 2022-02-07 16:50:18 2022-02-07 16:53:17   \n81    нет в комнате               3 2022-02-07 16:50:18 2022-02-07 16:53:17   \n124       в комнате               3 2022-02-07 16:50:18 2022-02-07 16:53:17   \n216   нет в комнате               2 2022-02-09 14:31:41 2022-02-09 14:33:41   \n267   нет в комнате               2 2022-02-09 14:31:41 2022-02-09 14:33:41   \n306   нет в комнате               2 2022-02-09 14:31:41 2022-02-09 14:33:41   \n357       в комнате               2 2022-02-09 14:31:41 2022-02-09 14:33:41   \n1782      в комнате               2 2022-02-07 17:57:43 2022-02-07 18:07:25   \n1876  нет в комнате               2 2022-02-07 17:57:43 2022-02-07 18:07:25   \n1922  нет в комнате               2 2022-02-07 17:57:43 2022-02-07 18:07:25   \n2007      в комнате               2 2022-02-07 17:57:43 2022-02-07 18:07:25   \n2101  нет в комнате               2 2022-02-07 17:57:43 2022-02-07 18:07:25   \n2147  нет в комнате               2 2022-02-07 17:57:43 2022-02-07 18:07:25   \n2228      в комнате               4 2022-02-07 18:52:47 2022-02-07 18:54:12   \n2276  нет в комнате               4 2022-02-07 18:52:47 2022-02-07 18:54:12   \n2300      в комнате               4 2022-02-07 18:52:47 2022-02-07 18:54:12   \n2348  нет в комнате               4 2022-02-07 18:52:47 2022-02-07 18:54:12   \n2372  нет в комнате               4 2022-02-07 18:52:47 2022-02-07 18:54:12   \n2420  нет в комнате               4 2022-02-07 18:52:47 2022-02-07 18:54:12   \n2444  нет в комнате               4 2022-02-07 18:52:47 2022-02-07 18:54:12   \n2492  нет в комнате               4 2022-02-07 18:52:47 2022-02-07 18:54:12   \n\n     fact_DeviceState          fact_Begin            fact_End  \n38                 ON 2022-02-07 10:39:19 2022-02-07 16:55:30  \n81                 ON 2022-02-07 10:39:19 2022-02-07 16:55:30  \n124                ON 2022-02-07 10:39:19 2022-02-07 16:55:30  \n216               OFF 2022-02-09 13:29:18 2022-02-09 15:21:57  \n267                ON 2022-02-09 08:57:10 2022-02-10 02:00:00  \n306               OFF 2022-02-09 13:29:18 2022-02-09 15:21:57  \n357                ON 2022-02-09 08:57:10 2022-02-10 02:00:00  \n1782               ON 2022-02-07 17:01:51 2022-02-07 19:33:01  \n1876              OFF 2022-02-07 17:15:23 2022-02-07 21:30:08  \n1922              OFF 2022-02-07 17:40:12 2022-02-07 23:33:37  \n2007               ON 2022-02-07 17:01:51 2022-02-07 19:33:01  \n2101              OFF 2022-02-07 17:15:23 2022-02-07 21:30:08  \n2147              OFF 2022-02-07 17:40:12 2022-02-07 23:33:37  \n2228               ON 2022-02-07 18:11:29 2022-02-08 00:16:17  \n2276              OFF 2022-02-07 08:41:50 2022-02-08 02:00:00  \n2300               ON 2022-02-07 18:11:29 2022-02-08 00:16:17  \n2348              OFF 2022-02-07 08:41:50 2022-02-08 02:00:00  \n2372               ON 2022-02-07 18:11:29 2022-02-08 00:16:17  \n2420              OFF 2022-02-07 08:41:50 2022-02-08 02:00:00  \n2444               ON 2022-02-07 18:11:29 2022-02-08 00:16:17  \n2492              OFF 2022-02-07 08:41:50 2022-02-08 02:00:00  ",
      "text/html": "<div>\n<style scoped>\n    .dataframe tbody tr th:only-of-type {\n        vertical-align: middle;\n    }\n\n    .dataframe tbody tr th {\n        vertical-align: top;\n    }\n\n    .dataframe thead th {\n        text-align: right;\n    }\n</style>\n<table border=\"1\" class=\"dataframe\">\n  <thead>\n    <tr style=\"text-align: right;\">\n      <th></th>\n      <th>survey_code</th>\n      <th>survey_passport</th>\n      <th>survey_button</th>\n      <th>survey_tv_state</th>\n      <th>survey_unit</th>\n      <th>survey_day</th>\n      <th>survey_cs_start</th>\n      <th>survey_cs_finish</th>\n      <th>survey_see</th>\n      <th>survey_display</th>\n      <th>survey_hh_size</th>\n      <th>survey_Begin</th>\n      <th>survey_End</th>\n      <th>fact_DeviceState</th>\n      <th>fact_Begin</th>\n      <th>fact_End</th>\n    </tr>\n  </thead>\n  <tbody>\n    <tr>\n      <th>38</th>\n      <td>258106</td>\n      <td>1205697</td>\n      <td>Б</td>\n      <td>ON</td>\n      <td>0</td>\n      <td>2022-02-07</td>\n      <td>1900-01-01 16:50:18</td>\n      <td>1900-01-01 16:53:17</td>\n      <td>нет регистрации</td>\n      <td>в комнате</td>\n      <td>3</td>\n      <td>2022-02-07 16:50:18</td>\n      <td>2022-02-07 16:53:17</td>\n      <td>ON</td>\n      <td>2022-02-07 10:39:19</td>\n      <td>2022-02-07 16:55:30</td>\n    </tr>\n    <tr>\n      <th>81</th>\n      <td>258106</td>\n      <td>1205697</td>\n      <td>А</td>\n      <td>ON</td>\n      <td>0</td>\n      <td>2022-02-07</td>\n      <td>1900-01-01 16:50:18</td>\n      <td>1900-01-01 16:53:17</td>\n      <td>нет регистрации</td>\n      <td>нет в комнате</td>\n      <td>3</td>\n      <td>2022-02-07 16:50:18</td>\n      <td>2022-02-07 16:53:17</td>\n      <td>ON</td>\n      <td>2022-02-07 10:39:19</td>\n      <td>2022-02-07 16:55:30</td>\n    </tr>\n    <tr>\n      <th>124</th>\n      <td>258106</td>\n      <td>1205697</td>\n      <td>В</td>\n      <td>ON</td>\n      <td>0</td>\n      <td>2022-02-07</td>\n      <td>1900-01-01 16:50:18</td>\n      <td>1900-01-01 16:53:17</td>\n      <td>нет регистрации</td>\n      <td>в комнате</td>\n      <td>3</td>\n      <td>2022-02-07 16:50:18</td>\n      <td>2022-02-07 16:53:17</td>\n      <td>ON</td>\n      <td>2022-02-07 10:39:19</td>\n      <td>2022-02-07 16:55:30</td>\n    </tr>\n    <tr>\n      <th>216</th>\n      <td>258110</td>\n      <td>1208135</td>\n      <td>А</td>\n      <td>OFF</td>\n      <td>2</td>\n      <td>2022-02-09</td>\n      <td>1900-01-01 14:31:41</td>\n      <td>1900-01-01 14:33:41</td>\n      <td>нет регистрации</td>\n      <td>нет в комнате</td>\n      <td>2</td>\n      <td>2022-02-09 14:31:41</td>\n      <td>2022-02-09 14:33:41</td>\n      <td>OFF</td>\n      <td>2022-02-09 13:29:18</td>\n      <td>2022-02-09 15:21:57</td>\n    </tr>\n    <tr>\n      <th>267</th>\n      <td>258110</td>\n      <td>1208135</td>\n      <td>А</td>\n      <td>ON</td>\n      <td>1</td>\n      <td>2022-02-09</td>\n      <td>1900-01-01 14:31:41</td>\n      <td>1900-01-01 14:33:41</td>\n      <td>нет регистрации</td>\n      <td>нет в комнате</td>\n      <td>2</td>\n      <td>2022-02-09 14:31:41</td>\n      <td>2022-02-09 14:33:41</td>\n      <td>ON</td>\n      <td>2022-02-09 08:57:10</td>\n      <td>2022-02-10 02:00:00</td>\n    </tr>\n    <tr>\n      <th>306</th>\n      <td>258110</td>\n      <td>1208135</td>\n      <td>Б</td>\n      <td>OFF</td>\n      <td>2</td>\n      <td>2022-02-09</td>\n      <td>1900-01-01 14:31:41</td>\n      <td>1900-01-01 14:33:41</td>\n      <td>нет регистрации</td>\n      <td>нет в комнате</td>\n      <td>2</td>\n      <td>2022-02-09 14:31:41</td>\n      <td>2022-02-09 14:33:41</td>\n      <td>OFF</td>\n      <td>2022-02-09 13:29:18</td>\n      <td>2022-02-09 15:21:57</td>\n    </tr>\n    <tr>\n      <th>357</th>\n      <td>258110</td>\n      <td>1208135</td>\n      <td>Б</td>\n      <td>ON</td>\n      <td>1</td>\n      <td>2022-02-09</td>\n      <td>1900-01-01 14:31:41</td>\n      <td>1900-01-01 14:33:41</td>\n      <td>нет регистрации</td>\n      <td>в комнате</td>\n      <td>2</td>\n      <td>2022-02-09 14:31:41</td>\n      <td>2022-02-09 14:33:41</td>\n      <td>ON</td>\n      <td>2022-02-09 08:57:10</td>\n      <td>2022-02-10 02:00:00</td>\n    </tr>\n    <tr>\n      <th>1782</th>\n      <td>258124</td>\n      <td>1210425</td>\n      <td>А</td>\n      <td>ON</td>\n      <td>0</td>\n      <td>2022-02-07</td>\n      <td>1900-01-01 17:57:43</td>\n      <td>1900-01-01 18:07:25</td>\n      <td>есть регистрация</td>\n      <td>в комнате</td>\n      <td>2</td>\n      <td>2022-02-07 17:57:43</td>\n      <td>2022-02-07 18:07:25</td>\n      <td>ON</td>\n      <td>2022-02-07 17:01:51</td>\n      <td>2022-02-07 19:33:01</td>\n    </tr>\n    <tr>\n      <th>1876</th>\n      <td>258124</td>\n      <td>1210425</td>\n      <td>А</td>\n      <td>OFF</td>\n      <td>1</td>\n      <td>2022-02-07</td>\n      <td>1900-01-01 17:57:43</td>\n      <td>1900-01-01 18:07:25</td>\n      <td>нет регистрации</td>\n      <td>нет в комнате</td>\n      <td>2</td>\n      <td>2022-02-07 17:57:43</td>\n      <td>2022-02-07 18:07:25</td>\n      <td>OFF</td>\n      <td>2022-02-07 17:15:23</td>\n      <td>2022-02-07 21:30:08</td>\n    </tr>\n    <tr>\n      <th>1922</th>\n      <td>258124</td>\n      <td>1210425</td>\n      <td>А</td>\n      <td>OFF</td>\n      <td>2</td>\n      <td>2022-02-07</td>\n      <td>1900-01-01 17:57:43</td>\n      <td>1900-01-01 18:07:25</td>\n      <td>нет регистрации</td>\n      <td>нет в комнате</td>\n      <td>2</td>\n      <td>2022-02-07 17:57:43</td>\n      <td>2022-02-07 18:07:25</td>\n      <td>OFF</td>\n      <td>2022-02-07 17:40:12</td>\n      <td>2022-02-07 23:33:37</td>\n    </tr>\n    <tr>\n      <th>2007</th>\n      <td>258124</td>\n      <td>1210425</td>\n      <td>Б</td>\n      <td>ON</td>\n      <td>0</td>\n      <td>2022-02-07</td>\n      <td>1900-01-01 17:57:43</td>\n      <td>1900-01-01 18:07:25</td>\n      <td>нет регистрации</td>\n      <td>в комнате</td>\n      <td>2</td>\n      <td>2022-02-07 17:57:43</td>\n      <td>2022-02-07 18:07:25</td>\n      <td>ON</td>\n      <td>2022-02-07 17:01:51</td>\n      <td>2022-02-07 19:33:01</td>\n    </tr>\n    <tr>\n      <th>2101</th>\n      <td>258124</td>\n      <td>1210425</td>\n      <td>Б</td>\n      <td>OFF</td>\n      <td>1</td>\n      <td>2022-02-07</td>\n      <td>1900-01-01 17:57:43</td>\n      <td>1900-01-01 18:07:25</td>\n      <td>нет регистрации</td>\n      <td>нет в комнате</td>\n      <td>2</td>\n      <td>2022-02-07 17:57:43</td>\n      <td>2022-02-07 18:07:25</td>\n      <td>OFF</td>\n      <td>2022-02-07 17:15:23</td>\n      <td>2022-02-07 21:30:08</td>\n    </tr>\n    <tr>\n      <th>2147</th>\n      <td>258124</td>\n      <td>1210425</td>\n      <td>Б</td>\n      <td>OFF</td>\n      <td>2</td>\n      <td>2022-02-07</td>\n      <td>1900-01-01 17:57:43</td>\n      <td>1900-01-01 18:07:25</td>\n      <td>нет регистрации</td>\n      <td>нет в комнате</td>\n      <td>2</td>\n      <td>2022-02-07 17:57:43</td>\n      <td>2022-02-07 18:07:25</td>\n      <td>OFF</td>\n      <td>2022-02-07 17:40:12</td>\n      <td>2022-02-07 23:33:37</td>\n    </tr>\n    <tr>\n      <th>2228</th>\n      <td>258128</td>\n      <td>1210930</td>\n      <td>А</td>\n      <td>ON</td>\n      <td>1</td>\n      <td>2022-02-07</td>\n      <td>1900-01-01 18:52:47</td>\n      <td>1900-01-01 18:54:12</td>\n      <td>есть регистрация</td>\n      <td>в комнате</td>\n      <td>4</td>\n      <td>2022-02-07 18:52:47</td>\n      <td>2022-02-07 18:54:12</td>\n      <td>ON</td>\n      <td>2022-02-07 18:11:29</td>\n      <td>2022-02-08 00:16:17</td>\n    </tr>\n    <tr>\n      <th>2276</th>\n      <td>258128</td>\n      <td>1210930</td>\n      <td>А</td>\n      <td>OFF</td>\n      <td>0</td>\n      <td>2022-02-07</td>\n      <td>1900-01-01 18:52:47</td>\n      <td>1900-01-01 18:54:12</td>\n      <td>нет регистрации</td>\n      <td>нет в комнате</td>\n      <td>4</td>\n      <td>2022-02-07 18:52:47</td>\n      <td>2022-02-07 18:54:12</td>\n      <td>OFF</td>\n      <td>2022-02-07 08:41:50</td>\n      <td>2022-02-08 02:00:00</td>\n    </tr>\n    <tr>\n      <th>2300</th>\n      <td>258128</td>\n      <td>1210930</td>\n      <td>Б</td>\n      <td>ON</td>\n      <td>1</td>\n      <td>2022-02-07</td>\n      <td>1900-01-01 18:52:47</td>\n      <td>1900-01-01 18:54:12</td>\n      <td>нет регистрации</td>\n      <td>в комнате</td>\n      <td>4</td>\n      <td>2022-02-07 18:52:47</td>\n      <td>2022-02-07 18:54:12</td>\n      <td>ON</td>\n      <td>2022-02-07 18:11:29</td>\n      <td>2022-02-08 00:16:17</td>\n    </tr>\n    <tr>\n      <th>2348</th>\n      <td>258128</td>\n      <td>1210930</td>\n      <td>Б</td>\n      <td>OFF</td>\n      <td>0</td>\n      <td>2022-02-07</td>\n      <td>1900-01-01 18:52:47</td>\n      <td>1900-01-01 18:54:12</td>\n      <td>нет регистрации</td>\n      <td>нет в комнате</td>\n      <td>4</td>\n      <td>2022-02-07 18:52:47</td>\n      <td>2022-02-07 18:54:12</td>\n      <td>OFF</td>\n      <td>2022-02-07 08:41:50</td>\n      <td>2022-02-08 02:00:00</td>\n    </tr>\n    <tr>\n      <th>2372</th>\n      <td>258128</td>\n      <td>1210930</td>\n      <td>В</td>\n      <td>ON</td>\n      <td>1</td>\n      <td>2022-02-07</td>\n      <td>1900-01-01 18:52:47</td>\n      <td>1900-01-01 18:54:12</td>\n      <td>нет регистрации</td>\n      <td>нет в комнате</td>\n      <td>4</td>\n      <td>2022-02-07 18:52:47</td>\n      <td>2022-02-07 18:54:12</td>\n      <td>ON</td>\n      <td>2022-02-07 18:11:29</td>\n      <td>2022-02-08 00:16:17</td>\n    </tr>\n    <tr>\n      <th>2420</th>\n      <td>258128</td>\n      <td>1210930</td>\n      <td>В</td>\n      <td>OFF</td>\n      <td>0</td>\n      <td>2022-02-07</td>\n      <td>1900-01-01 18:52:47</td>\n      <td>1900-01-01 18:54:12</td>\n      <td>нет регистрации</td>\n      <td>нет в комнате</td>\n      <td>4</td>\n      <td>2022-02-07 18:52:47</td>\n      <td>2022-02-07 18:54:12</td>\n      <td>OFF</td>\n      <td>2022-02-07 08:41:50</td>\n      <td>2022-02-08 02:00:00</td>\n    </tr>\n    <tr>\n      <th>2444</th>\n      <td>258128</td>\n      <td>1210930</td>\n      <td>Г</td>\n      <td>ON</td>\n      <td>1</td>\n      <td>2022-02-07</td>\n      <td>1900-01-01 18:52:47</td>\n      <td>1900-01-01 18:54:12</td>\n      <td>нет регистрации</td>\n      <td>нет в комнате</td>\n      <td>4</td>\n      <td>2022-02-07 18:52:47</td>\n      <td>2022-02-07 18:54:12</td>\n      <td>ON</td>\n      <td>2022-02-07 18:11:29</td>\n      <td>2022-02-08 00:16:17</td>\n    </tr>\n    <tr>\n      <th>2492</th>\n      <td>258128</td>\n      <td>1210930</td>\n      <td>Г</td>\n      <td>OFF</td>\n      <td>0</td>\n      <td>2022-02-07</td>\n      <td>1900-01-01 18:52:47</td>\n      <td>1900-01-01 18:54:12</td>\n      <td>нет регистрации</td>\n      <td>нет в комнате</td>\n      <td>4</td>\n      <td>2022-02-07 18:52:47</td>\n      <td>2022-02-07 18:54:12</td>\n      <td>OFF</td>\n      <td>2022-02-07 08:41:50</td>\n      <td>2022-02-08 02:00:00</td>\n    </tr>\n  </tbody>\n</table>\n</div>"
     },
     "execution_count": 13,
     "metadata": {},
     "output_type": "execute_result"
    }
   ],
   "source": [
    "# Выделение ДХ с количеством 4+ членов семьи больше 1, с фактически включенным телевизором,\n",
    "## респондент по данным опроса находиться в комнате, регистрации нет.\n",
    "in_survey_multiple = in_survey[(\n",
    "    (in_survey['survey_hh_size'] > 1) &\n",
    "    (in_survey['fact_DeviceState'] == 'ON') &\n",
    "    (in_survey['survey_display'] == 'в комнате') &\n",
    "    (in_survey['survey_see'] == 'нет регистрации')\n",
    ")]\n",
    "\n",
    "# Получение списка домохозяйств\n",
    "selected_hh = set(in_survey_multiple.survey_passport)\n",
    "\n",
    "# Фильтрация по выделенным домохозяйствам\n",
    "selected_in_survey = in_survey[in_survey['survey_passport'].isin(selected_hh)]\n",
    "\n",
    "selected_in_survey\n"
   ],
   "metadata": {
    "collapsed": false,
    "ExecuteTime": {
     "end_time": "2023-12-15T12:26:16.802202965Z",
     "start_time": "2023-12-15T12:26:16.479018233Z"
    }
   },
   "id": "c19add6e5a7cc0ad"
  },
  {
   "cell_type": "code",
   "execution_count": 14,
   "outputs": [
    {
     "data": {
      "text/plain": "survey_hh_size  survey_passport  survey_see      \n2               1208135          нет регистрации     1\n                1210425          есть регистрация    1\n                                 нет регистрации     1\n3               1205697          нет регистрации     1\n4               1210930          есть регистрация    1\n                                 нет регистрации     1\nName: survey_passport, dtype: int64"
     },
     "execution_count": 14,
     "metadata": {},
     "output_type": "execute_result"
    }
   ],
   "source": [
    "# Группируем полученный датафрейм по размеру ДХ, идентификатору ДХб, и наличию регистрации. \n",
    "selected_in_survey.groupby(['survey_hh_size', 'survey_passport', 'survey_see'])['survey_passport'].nunique()\n"
   ],
   "metadata": {
    "collapsed": false,
    "ExecuteTime": {
     "end_time": "2023-12-15T12:26:16.812432867Z",
     "start_time": "2023-12-15T12:26:16.540543386Z"
    }
   },
   "id": "f16667d1de13044a"
  },
  {
   "cell_type": "markdown",
   "source": [
    "Видим, что есть два домохозяйства, у которого есть и зарегистрированные, и незарегистрированные респонденты."
   ],
   "metadata": {
    "collapsed": false
   },
   "id": "8990c56679c2ca7a"
  },
  {
   "cell_type": "code",
   "execution_count": 15,
   "outputs": [],
   "source": [
    "import sketch\n",
    "# selected_in_survey.sketch.howto(\"...\")"
   ],
   "metadata": {
    "collapsed": false,
    "ExecuteTime": {
     "end_time": "2023-12-15T12:26:16.967120061Z",
     "start_time": "2023-12-15T12:26:16.540785742Z"
    }
   },
   "id": "af32b5d57bccdc5c"
  }
 ],
 "metadata": {
  "kernelspec": {
   "display_name": "Python 3",
   "language": "python",
   "name": "python3"
  },
  "language_info": {
   "codemirror_mode": {
    "name": "ipython",
    "version": 2
   },
   "file_extension": ".py",
   "mimetype": "text/x-python",
   "name": "python",
   "nbconvert_exporter": "python",
   "pygments_lexer": "ipython2",
   "version": "2.7.6"
  }
 },
 "nbformat": 4,
 "nbformat_minor": 5
}
