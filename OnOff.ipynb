{
 "cells": [
  {
   "cell_type": "code",
   "execution_count": 6,
   "outputs": [],
   "source": [
    "import pandas as pd\n"
   ],
   "metadata": {
    "collapsed": false,
    "ExecuteTime": {
     "end_time": "2023-12-14T13:50:39.869989558Z",
     "start_time": "2023-12-14T13:50:39.818484796Z"
    }
   },
   "id": "65f52fd4009d0d6f"
  },
  {
   "cell_type": "code",
   "execution_count": 7,
   "outputs": [],
   "source": [
    "src_OnOff = pd.read_excel(\"src_OnOff.xlsx\",\n",
    "                          dtype={\"DeviceState\": \"category\"}, \n",
    "                          parse_dates=['Begin', 'End'],\n",
    "                          date_format='%Y-%m-%d %H:%M:%S.%f')\n"
   ],
   "metadata": {
    "collapsed": false,
    "ExecuteTime": {
     "end_time": "2023-12-14T13:51:21.727562251Z",
     "start_time": "2023-12-14T13:50:39.869385930Z"
    }
   },
   "id": "c0d93dcbd4f29562"
  },
  {
   "cell_type": "code",
   "execution_count": 8,
   "outputs": [
    {
     "data": {
      "text/plain": "PassportNumber             int64\nUnitNumber                 int64\nDeviceState             category\nBegin             datetime64[ns]\nEnd               datetime64[ns]\ndtype: object"
     },
     "execution_count": 8,
     "metadata": {},
     "output_type": "execute_result"
    }
   ],
   "source": [
    "src_OnOff.dtypes\n"
   ],
   "metadata": {
    "collapsed": false,
    "ExecuteTime": {
     "end_time": "2023-12-14T13:51:21.728737036Z",
     "start_time": "2023-12-14T13:51:21.727370723Z"
    }
   },
   "id": "2e4f08d045adf469"
  },
  {
   "cell_type": "code",
   "execution_count": 9,
   "outputs": [
    {
     "data": {
      "text/plain": "        PassportNumber  UnitNumber DeviceState               Begin  \\\n0             10100003           0         OFF 2022-02-07 02:00:00   \n1             10100003           0         OFF 2022-02-08 02:00:00   \n2             10100003           0          ON 2022-02-08 11:48:42   \n3             10100003           0         OFF 2022-02-08 12:36:55   \n4             10100003           0          ON 2022-02-08 22:05:17   \n...                ...         ...         ...                 ...   \n642129          502286           0         OFF 2022-02-15 20:16:01   \n642130          502286           0          ON 2022-02-15 20:53:31   \n642131          502286           0         OFF 2022-02-15 21:43:15   \n642132          502286           0          ON 2022-02-15 22:09:59   \n642133          502286           0         OFF 2022-02-15 22:19:33   \n\n                       End  \n0      2022-02-08 02:00:00  \n1      2022-02-08 11:48:42  \n2      2022-02-08 12:36:55  \n3      2022-02-08 22:05:17  \n4      2022-02-08 23:48:03  \n...                    ...  \n642129 2022-02-15 20:53:31  \n642130 2022-02-15 21:43:15  \n642131 2022-02-15 22:09:59  \n642132 2022-02-15 22:19:33  \n642133 2022-02-16 02:00:00  \n\n[642134 rows x 5 columns]",
      "text/html": "<div>\n<style scoped>\n    .dataframe tbody tr th:only-of-type {\n        vertical-align: middle;\n    }\n\n    .dataframe tbody tr th {\n        vertical-align: top;\n    }\n\n    .dataframe thead th {\n        text-align: right;\n    }\n</style>\n<table border=\"1\" class=\"dataframe\">\n  <thead>\n    <tr style=\"text-align: right;\">\n      <th></th>\n      <th>PassportNumber</th>\n      <th>UnitNumber</th>\n      <th>DeviceState</th>\n      <th>Begin</th>\n      <th>End</th>\n    </tr>\n  </thead>\n  <tbody>\n    <tr>\n      <th>0</th>\n      <td>10100003</td>\n      <td>0</td>\n      <td>OFF</td>\n      <td>2022-02-07 02:00:00</td>\n      <td>2022-02-08 02:00:00</td>\n    </tr>\n    <tr>\n      <th>1</th>\n      <td>10100003</td>\n      <td>0</td>\n      <td>OFF</td>\n      <td>2022-02-08 02:00:00</td>\n      <td>2022-02-08 11:48:42</td>\n    </tr>\n    <tr>\n      <th>2</th>\n      <td>10100003</td>\n      <td>0</td>\n      <td>ON</td>\n      <td>2022-02-08 11:48:42</td>\n      <td>2022-02-08 12:36:55</td>\n    </tr>\n    <tr>\n      <th>3</th>\n      <td>10100003</td>\n      <td>0</td>\n      <td>OFF</td>\n      <td>2022-02-08 12:36:55</td>\n      <td>2022-02-08 22:05:17</td>\n    </tr>\n    <tr>\n      <th>4</th>\n      <td>10100003</td>\n      <td>0</td>\n      <td>ON</td>\n      <td>2022-02-08 22:05:17</td>\n      <td>2022-02-08 23:48:03</td>\n    </tr>\n    <tr>\n      <th>...</th>\n      <td>...</td>\n      <td>...</td>\n      <td>...</td>\n      <td>...</td>\n      <td>...</td>\n    </tr>\n    <tr>\n      <th>642129</th>\n      <td>502286</td>\n      <td>0</td>\n      <td>OFF</td>\n      <td>2022-02-15 20:16:01</td>\n      <td>2022-02-15 20:53:31</td>\n    </tr>\n    <tr>\n      <th>642130</th>\n      <td>502286</td>\n      <td>0</td>\n      <td>ON</td>\n      <td>2022-02-15 20:53:31</td>\n      <td>2022-02-15 21:43:15</td>\n    </tr>\n    <tr>\n      <th>642131</th>\n      <td>502286</td>\n      <td>0</td>\n      <td>OFF</td>\n      <td>2022-02-15 21:43:15</td>\n      <td>2022-02-15 22:09:59</td>\n    </tr>\n    <tr>\n      <th>642132</th>\n      <td>502286</td>\n      <td>0</td>\n      <td>ON</td>\n      <td>2022-02-15 22:09:59</td>\n      <td>2022-02-15 22:19:33</td>\n    </tr>\n    <tr>\n      <th>642133</th>\n      <td>502286</td>\n      <td>0</td>\n      <td>OFF</td>\n      <td>2022-02-15 22:19:33</td>\n      <td>2022-02-16 02:00:00</td>\n    </tr>\n  </tbody>\n</table>\n<p>642134 rows × 5 columns</p>\n</div>"
     },
     "execution_count": 9,
     "metadata": {},
     "output_type": "execute_result"
    }
   ],
   "source": [
    "src_OnOff\n"
   ],
   "metadata": {
    "collapsed": false,
    "ExecuteTime": {
     "end_time": "2023-12-14T13:51:21.730301091Z",
     "start_time": "2023-12-14T13:51:21.727783411Z"
    }
   },
   "id": "711f832683a62b13"
  },
  {
   "cell_type": "code",
   "execution_count": 10,
   "outputs": [],
   "source": [
    "src_OnOff.to_csv('src_OnOff.csv', index=False)\n"
   ],
   "metadata": {
    "collapsed": false,
    "ExecuteTime": {
     "end_time": "2023-12-14T13:51:24.229333129Z",
     "start_time": "2023-12-14T13:51:21.728032239Z"
    }
   },
   "id": "a8c4cde8dafdff67"
  }
 ],
 "metadata": {
  "kernelspec": {
   "display_name": "Python 3",
   "language": "python",
   "name": "python3"
  },
  "language_info": {
   "codemirror_mode": {
    "name": "ipython",
    "version": 2
   },
   "file_extension": ".py",
   "mimetype": "text/x-python",
   "name": "python",
   "nbconvert_exporter": "python",
   "pygments_lexer": "ipython2",
   "version": "2.7.6"
  }
 },
 "nbformat": 4,
 "nbformat_minor": 5
}
