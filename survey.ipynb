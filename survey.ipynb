{
 "cells": [
  {
   "cell_type": "code",
   "execution_count": 23,
   "outputs": [],
   "source": [
    "import pandas as pd\n"
   ],
   "metadata": {
    "collapsed": false,
    "ExecuteTime": {
     "end_time": "2023-12-14T13:50:26.149438705Z",
     "start_time": "2023-12-14T13:50:26.138779002Z"
    }
   },
   "id": "c0d93dcbd4f29562"
  },
  {
   "cell_type": "code",
   "execution_count": 24,
   "outputs": [],
   "source": [
    "src_survey = pd.read_excel('src_survey.xlsx', \n",
    "                           dtype={'button': 'category', 'tv state': 'category', 'see': 'category', 'display': 'category'}, \n",
    "                           parse_dates=['cs_start', 'cs_finish'],\n",
    "                           date_format='%H:%M:%S')\n"
   ],
   "metadata": {
    "collapsed": false,
    "ExecuteTime": {
     "end_time": "2023-12-14T13:50:26.249657086Z",
     "start_time": "2023-12-14T13:50:26.157780942Z"
    }
   },
   "id": "8a512fae5c264e1f"
  },
  {
   "cell_type": "code",
   "execution_count": 25,
   "outputs": [],
   "source": [
    "# Создаем функцию для преобразования имеющихся строк в даты\n",
    "def convert_to_date(date_str):\n",
    "    try:\n",
    "        return pd.to_datetime(date_str, format=\"%d.%m.%y\")\n",
    "    except:\n",
    "        return date_str\n",
    "\n",
    "src_survey[\"day\"] = src_survey[\"day\"].apply(convert_to_date)\n"
   ],
   "metadata": {
    "collapsed": false,
    "ExecuteTime": {
     "end_time": "2023-12-14T13:50:26.256201743Z",
     "start_time": "2023-12-14T13:50:26.248036080Z"
    }
   },
   "id": "7e7b40fc35df365f"
  },
  {
   "cell_type": "code",
   "execution_count": 26,
   "outputs": [
    {
     "data": {
      "text/plain": "     code  passport button  tv state  unit        day            cs_start  \\\n0  258104   1204558      А  выключен     0 2022-02-07 1900-01-01 16:25:18   \n1  258106   1205697      Б   включён     0 2022-02-07 1900-01-01 16:50:18   \n2  258106   1205697      А   включён     0 2022-02-07 1900-01-01 16:50:18   \n3  258106   1205697      В   включён     0 2022-02-07 1900-01-01 16:50:18   \n4  258109   1206994      А  выключен     1 2022-02-08 1900-01-01 03:05:31   \n\n            cs_finish              see        display  \\\n0 1900-01-01 16:26:09  нет регистрации  нет в комнате   \n1 1900-01-01 16:53:17  нет регистрации      в комнате   \n2 1900-01-01 16:53:17  нет регистрации  нет в комнате   \n3 1900-01-01 16:53:17  нет регистрации      в комнате   \n4 1900-01-01 03:06:58  нет регистрации  нет в комнате   \n\n   Кол-во человек в семье 4+               Begin                 End  \n0                          1 2022-02-07 16:25:18 2022-02-07 16:26:09  \n1                          3 2022-02-07 16:50:18 2022-02-07 16:53:17  \n2                          3 2022-02-07 16:50:18 2022-02-07 16:53:17  \n3                          3 2022-02-07 16:50:18 2022-02-07 16:53:17  \n4                          1 2022-02-08 03:05:31 2022-02-08 03:06:58  ",
      "text/html": "<div>\n<style scoped>\n    .dataframe tbody tr th:only-of-type {\n        vertical-align: middle;\n    }\n\n    .dataframe tbody tr th {\n        vertical-align: top;\n    }\n\n    .dataframe thead th {\n        text-align: right;\n    }\n</style>\n<table border=\"1\" class=\"dataframe\">\n  <thead>\n    <tr style=\"text-align: right;\">\n      <th></th>\n      <th>code</th>\n      <th>passport</th>\n      <th>button</th>\n      <th>tv state</th>\n      <th>unit</th>\n      <th>day</th>\n      <th>cs_start</th>\n      <th>cs_finish</th>\n      <th>see</th>\n      <th>display</th>\n      <th>Кол-во человек в семье 4+</th>\n      <th>Begin</th>\n      <th>End</th>\n    </tr>\n  </thead>\n  <tbody>\n    <tr>\n      <th>0</th>\n      <td>258104</td>\n      <td>1204558</td>\n      <td>А</td>\n      <td>выключен</td>\n      <td>0</td>\n      <td>2022-02-07</td>\n      <td>1900-01-01 16:25:18</td>\n      <td>1900-01-01 16:26:09</td>\n      <td>нет регистрации</td>\n      <td>нет в комнате</td>\n      <td>1</td>\n      <td>2022-02-07 16:25:18</td>\n      <td>2022-02-07 16:26:09</td>\n    </tr>\n    <tr>\n      <th>1</th>\n      <td>258106</td>\n      <td>1205697</td>\n      <td>Б</td>\n      <td>включён</td>\n      <td>0</td>\n      <td>2022-02-07</td>\n      <td>1900-01-01 16:50:18</td>\n      <td>1900-01-01 16:53:17</td>\n      <td>нет регистрации</td>\n      <td>в комнате</td>\n      <td>3</td>\n      <td>2022-02-07 16:50:18</td>\n      <td>2022-02-07 16:53:17</td>\n    </tr>\n    <tr>\n      <th>2</th>\n      <td>258106</td>\n      <td>1205697</td>\n      <td>А</td>\n      <td>включён</td>\n      <td>0</td>\n      <td>2022-02-07</td>\n      <td>1900-01-01 16:50:18</td>\n      <td>1900-01-01 16:53:17</td>\n      <td>нет регистрации</td>\n      <td>нет в комнате</td>\n      <td>3</td>\n      <td>2022-02-07 16:50:18</td>\n      <td>2022-02-07 16:53:17</td>\n    </tr>\n    <tr>\n      <th>3</th>\n      <td>258106</td>\n      <td>1205697</td>\n      <td>В</td>\n      <td>включён</td>\n      <td>0</td>\n      <td>2022-02-07</td>\n      <td>1900-01-01 16:50:18</td>\n      <td>1900-01-01 16:53:17</td>\n      <td>нет регистрации</td>\n      <td>в комнате</td>\n      <td>3</td>\n      <td>2022-02-07 16:50:18</td>\n      <td>2022-02-07 16:53:17</td>\n    </tr>\n    <tr>\n      <th>4</th>\n      <td>258109</td>\n      <td>1206994</td>\n      <td>А</td>\n      <td>выключен</td>\n      <td>1</td>\n      <td>2022-02-08</td>\n      <td>1900-01-01 03:05:31</td>\n      <td>1900-01-01 03:06:58</td>\n      <td>нет регистрации</td>\n      <td>нет в комнате</td>\n      <td>1</td>\n      <td>2022-02-08 03:05:31</td>\n      <td>2022-02-08 03:06:58</td>\n    </tr>\n  </tbody>\n</table>\n</div>"
     },
     "execution_count": 26,
     "metadata": {},
     "output_type": "execute_result"
    }
   ],
   "source": [
    "src_survey['Begin'] = src_survey['day'] + pd.to_timedelta(src_survey['cs_start'].dt.strftime('%H:%M:%S'))\n",
    "src_survey['End'] = src_survey['day'] + pd.to_timedelta(src_survey['cs_finish'].dt.strftime('%H:%M:%S'))\n",
    "\n",
    "src_survey.head()\n"
   ],
   "metadata": {
    "collapsed": false,
    "ExecuteTime": {
     "end_time": "2023-12-14T13:50:26.260828688Z",
     "start_time": "2023-12-14T13:50:26.249396538Z"
    }
   },
   "id": "e09cc3a62a684f14"
  },
  {
   "cell_type": "code",
   "execution_count": 27,
   "outputs": [],
   "source": [
    "src_survey.to_csv('src_survey.csv', index=False)\n"
   ],
   "metadata": {
    "collapsed": false,
    "ExecuteTime": {
     "end_time": "2023-12-14T13:50:26.271356559Z",
     "start_time": "2023-12-14T13:50:26.263951793Z"
    }
   },
   "id": "24c43e73bb8d1c2c"
  }
 ],
 "metadata": {
  "kernelspec": {
   "display_name": "Python 3",
   "language": "python",
   "name": "python3"
  },
  "language_info": {
   "codemirror_mode": {
    "name": "ipython",
    "version": 2
   },
   "file_extension": ".py",
   "mimetype": "text/x-python",
   "name": "python",
   "nbconvert_exporter": "python",
   "pygments_lexer": "ipython2",
   "version": "2.7.6"
  }
 },
 "nbformat": 4,
 "nbformat_minor": 5
}
